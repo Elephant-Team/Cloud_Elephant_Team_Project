{
  "nbformat": 4,
  "nbformat_minor": 0,
  "metadata": {
    "colab": {
      "provenance": []
    },
    "kernelspec": {
      "name": "python3",
      "display_name": "Python 3"
    },
    "language_info": {
      "name": "python"
    },
    "widgets": {
      "application/vnd.jupyter.widget-state+json": {
        "8f75ee8c8b5545e8aec5c79bd60b9693": {
          "model_module": "@jupyter-widgets/controls",
          "model_name": "DropdownModel",
          "model_module_version": "1.5.0",
          "state": {
            "_dom_classes": [],
            "_model_module": "@jupyter-widgets/controls",
            "_model_module_version": "1.5.0",
            "_model_name": "DropdownModel",
            "_options_labels": [
              "Amal",
              "Mohammed"
            ],
            "_view_count": null,
            "_view_module": "@jupyter-widgets/controls",
            "_view_module_version": "1.5.0",
            "_view_name": "DropdownView",
            "description": "Students:",
            "description_tooltip": null,
            "disabled": false,
            "index": 0,
            "layout": "IPY_MODEL_7f0b5398bab142d68d5e2d4671822d61",
            "style": "IPY_MODEL_7450029bb241489a9e4e115bf1b79b2c"
          }
        },
        "7f0b5398bab142d68d5e2d4671822d61": {
          "model_module": "@jupyter-widgets/base",
          "model_name": "LayoutModel",
          "model_module_version": "1.2.0",
          "state": {
            "_model_module": "@jupyter-widgets/base",
            "_model_module_version": "1.2.0",
            "_model_name": "LayoutModel",
            "_view_count": null,
            "_view_module": "@jupyter-widgets/base",
            "_view_module_version": "1.2.0",
            "_view_name": "LayoutView",
            "align_content": null,
            "align_items": null,
            "align_self": null,
            "border": null,
            "bottom": null,
            "display": null,
            "flex": null,
            "flex_flow": null,
            "grid_area": null,
            "grid_auto_columns": null,
            "grid_auto_flow": null,
            "grid_auto_rows": null,
            "grid_column": null,
            "grid_gap": null,
            "grid_row": null,
            "grid_template_areas": null,
            "grid_template_columns": null,
            "grid_template_rows": null,
            "height": null,
            "justify_content": null,
            "justify_items": null,
            "left": null,
            "margin": null,
            "max_height": null,
            "max_width": null,
            "min_height": null,
            "min_width": null,
            "object_fit": null,
            "object_position": null,
            "order": null,
            "overflow": null,
            "overflow_x": null,
            "overflow_y": null,
            "padding": null,
            "right": null,
            "top": null,
            "visibility": null,
            "width": null
          }
        },
        "7450029bb241489a9e4e115bf1b79b2c": {
          "model_module": "@jupyter-widgets/controls",
          "model_name": "DescriptionStyleModel",
          "model_module_version": "1.5.0",
          "state": {
            "_model_module": "@jupyter-widgets/controls",
            "_model_module_version": "1.5.0",
            "_model_name": "DescriptionStyleModel",
            "_view_count": null,
            "_view_module": "@jupyter-widgets/base",
            "_view_module_version": "1.2.0",
            "_view_name": "StyleView",
            "description_width": ""
          }
        }
      }
    }
  },
  "cells": [
    {
      "cell_type": "code",
      "source": [
        "cd/content/drive/MyDrive"
      ],
      "metadata": {
        "colab": {
          "base_uri": "https://localhost:8080/"
        },
        "id": "xXoGhQzsyySl",
        "outputId": "25d41eb4-4f02-474a-b2f7-f800af354004"
      },
      "execution_count": null,
      "outputs": [
        {
          "output_type": "stream",
          "name": "stdout",
          "text": [
            "/content/drive/MyDrive\n"
          ]
        }
      ]
    },
    {
      "cell_type": "code",
      "execution_count": null,
      "metadata": {
        "id": "aYrQueUPkPIU"
      },
      "outputs": [],
      "source": [
        "# @title Default title text\n",
        "with open('Students.txt', 'r') as file:\n",
        "    contents = file.readlines()"
      ]
    },
    {
      "cell_type": "code",
      "source": [
        "# @title Default title text\n",
        "import ipywidgets as widgets\n",
        "first_student = contents[0].strip()\n",
        "second_student = contents[1].strip()\n",
        "student_dropdown = widgets.Dropdown(\n",
        "    options=[first_student.split()[0],second_student.split()[0]],\n",
        "    value=first_student.split()[0],\n",
        "    description='Students:',\n",
        "    disabled=False,\n",
        ")\n",
        "def on_value_change(val):\n",
        "    if val['new'] == first_student.split()[0]:\n",
        "        print(first_student)\n",
        "    else:\n",
        "        print(second_student)\n",
        "student_dropdown.observe(on_value_change,names='value')\n",
        "\n",
        "display(student_dropdown)"
      ],
      "metadata": {
        "colab": {
          "base_uri": "https://localhost:8080/",
          "height": 84,
          "referenced_widgets": [
            "8f75ee8c8b5545e8aec5c79bd60b9693",
            "7f0b5398bab142d68d5e2d4671822d61",
            "7450029bb241489a9e4e115bf1b79b2c"
          ]
        },
        "id": "kg8Jf5iGy1tG",
        "outputId": "baf39c66-4118-43c5-a8dd-b86f11546d3b"
      },
      "execution_count": null,
      "outputs": [
        {
          "output_type": "display_data",
          "data": {
            "text/plain": [
              "Dropdown(description='Students:', options=('Amal', 'Mohammed'), value='Amal')"
            ],
            "application/vnd.jupyter.widget-view+json": {
              "version_major": 2,
              "version_minor": 0,
              "model_id": "8f75ee8c8b5545e8aec5c79bd60b9693"
            }
          },
          "metadata": {}
        },
        {
          "output_type": "stream",
          "name": "stdout",
          "text": [
            "Mohammed Jaber mohammed.kaber@e.braude.ac.il anan\n",
            "Amal Kandeel amal.kandeel@e.braude.ac.il anan\n"
          ]
        }
      ]
    }
  ]
}